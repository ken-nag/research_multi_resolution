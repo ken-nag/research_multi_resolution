{
 "cells": [
  {
   "cell_type": "code",
   "execution_count": 40,
   "metadata": {
    "ExecuteTime": {
     "end_time": "2019-11-10T08:48:04.629359Z",
     "start_time": "2019-11-10T08:33:37.841089Z"
    },
    "code_folding": [],
    "scrolled": true
   },
   "outputs": [
    {
     "name": "stdout",
     "output_type": "stream",
     "text": [
      "spec mix <dtype: 'complex64'>\n",
      "(?, 128, 256, 16)\n",
      "(?, 64, 128, 32)\n",
      "(?, 32, 64, 64)\n",
      "(?, 16, 32, 128)\n",
      "(?, 8, 16, 256)\n",
      "(?, 4, 8, 512)\n",
      "(?, 8, 16, 256)\n",
      "(?, 16, 32, 128)\n",
      "(?, 32, 64, 64)\n",
      "(?, 64, 128, 32)\n",
      "(?, 128, 256, 16)\n",
      "(?, 256, 512, 1)\n",
      "INFO:tensorflow:Restoring parameters from ./../results/model/UNet/u_net_1998.ckpt\n",
      "excuted time 14.840269088745117\n",
      "sdr mean 3.637331643888377\n",
      "sir mean inf\n",
      "sar mean 3.637331643888377\n",
      "evaluate time 104.25493216514587\n"
     ]
    }
   ],
   "source": [
    "import time\n",
    "import pprint\n",
    "import sys\n",
    "import IPython\n",
    "import mir_eval\n",
    "import numpy as np\n",
    "import tensorflow as tf\n",
    "tf.reset_default_graph()\n",
    "sys.path.append('../')\n",
    "from model.DataProvider import DataProvider\n",
    "from model.EarlyStopping import EarlyStopping\n",
    "from model.NetSaver import NetSaver\n",
    "from model.UNet import UNet\n",
    "from model import Loss\n",
    "from model import Trainer\n",
    "from model.DataArgument import DataArgument\n",
    "from model import Masks\n",
    "from model.STFT_Module import STFT_Module\n",
    "from lib import AudioModule\n",
    "from visualizer import visualize_loss\n",
    "from visualizer import visualize_spec\n",
    "\n",
    "\n",
    "class Test():\n",
    "        def __init__(self, epoch_num=1, batch_size=10, fs = 16000, sec = 18, test_data_num=10000, sample_len=66304):\n",
    "                self.epoch_num= epoch_num\n",
    "                self.batch_size = batch_size\n",
    "                self.input_shape = None\n",
    "                self.test_iter = None\n",
    "                self.fs = fs\n",
    "                self.sec = sec\n",
    "                self.test_data_num = test_data_num\n",
    "                self.stft_params = {\n",
    "                        \"frame_length\": 1024,\n",
    "                        \"frame_step\": 256,\n",
    "                        \"fft_length\": 1024,\n",
    "                        \"pad_end\": False\n",
    "                }\n",
    "                self.est_audio_list = []\n",
    "                self.sdr_list = []\n",
    "                self.sir_list = []\n",
    "                self.sar_list = []\n",
    "                self.sample_len = sample_len\n",
    "                self.epsilon = 1e-4\n",
    "        \n",
    "        def expand_channel(self, tf_X):\n",
    "                return tf.expand_dims(tf_X, -1)\n",
    "            \n",
    "        def __model(self, tf_mix):\n",
    "                 # define model flow\n",
    "                # stft\n",
    "                stft_module = STFT_Module(\n",
    "                        frame_length = self.stft_params[\"frame_length\"], \n",
    "                        frame_step= self.stft_params[\"frame_step\"], \n",
    "                        fft_length = self.stft_params[\"fft_length\"],\n",
    "                        pad_end = self.stft_params[\"pad_end\"],\n",
    "                        epsilon = self.epsilon\n",
    "                )\n",
    "                \n",
    "                # mix data transform\n",
    "                tf_spec_mix = stft_module.STFT(tf_mix)\n",
    "                print(\"spec mix\", tf_spec_mix.dtype)\n",
    "                tf_spec_mix = stft_module.to_T_256(tf_spec_mix) # cut time dimension to 256 for u-net architecture\n",
    "                tf_phase_mix = tf.sign(tf_spec_mix)\n",
    "                tf_phase_mix = self.expand_channel(tf_phase_mix)\n",
    "#             tf_mag_spec_mix = stft_module.to_magnitude_spec(tf_spec_mix, normalize=False)\n",
    "                tf_amp_spec_mix = stft_module.to_amp_spec(tf_spec_mix, normalize =False)\n",
    "                tf_mag_spec_mix = tf.log(tf_amp_spec_mix + self.epsilon)\n",
    "                tf_mag_spec_mix = tf.expand_dims(tf_mag_spec_mix, -1)# (Batch, Time, Freq, Channel))\n",
    "                tf_amp_spec_mix = tf.expand_dims(tf_amp_spec_mix, -1)\n",
    "                tf_f_512_mag_spec_mix = stft_module.to_F_512(tf_mag_spec_mix)\n",
    "                \n",
    "                # target data transform\n",
    "#                 tf_spec_target = stft_module.STFT(tf_target)\n",
    "#                 tf_spec_target = stft_module.to_T_256(tf_spec_target) # cut time dimensiton to 256 for u-net architecture\n",
    "                \n",
    "#                 tf_amp_spec_target = stft_module.to_amp_spec(tf_spec_target, normalize=False)\n",
    "#                 tf_amp_spec_target = tf.expand_dims(tf_amp_spec_target, -1)\n",
    "                 \n",
    "                u_net = UNet(\n",
    "                        input_shape =(\n",
    "                                tf_f_512_mag_spec_mix.shape[1:]\n",
    "                        )\n",
    "                )\n",
    "            \n",
    "                tf_est_masks = u_net(tf_f_512_mag_spec_mix)\n",
    "                \n",
    "                #F: 512  → 513\n",
    "                zero_pad = tf.zeros_like(tf_mag_spec_mix)\n",
    "                zero_pad = tf.expand_dims(zero_pad[:,:,1,:], -1)\n",
    "                tf_est_masks = tf.concat( [tf_est_masks, zero_pad], 2)\n",
    "                tf_est_spec = tf.math.multiply(tf_est_masks, tf_amp_spec_mix)\n",
    "                tf_est_source_spec = tf.math.multiply(tf.complex(tf_est_spec, 0.), tf_phase_mix)\n",
    "                tf_est_source_spec = tf.squeeze(tf_est_source_spec, axis=-1)                \n",
    "                est_source = stft_module.ISTFT(tf_est_source_spec)\n",
    "                return est_source\n",
    "                \n",
    "        def __call__(self):                                              \n",
    "                # load all train data\n",
    "                provider = DataProvider()\n",
    "                test_bass_list, test_drums_list, test_other_list, test_vocals_list = provider.load_all_test_data()\n",
    "                # define model\n",
    "                tf_mix = tf.placeholder(tf.float32, (None, self.sample_len)) #Batch, Sample\n",
    "                tf_est_source = self.__model(tf_mix)\n",
    "                \n",
    "                # GPU config\n",
    "                config = tf.ConfigProto(\n",
    "                        gpu_options=tf.GPUOptions(\n",
    "                                visible_device_list=None, # specify GPU number\n",
    "                                allow_growth = True\n",
    "                        )\n",
    "                )\n",
    "                \n",
    "                saver = tf.train.import_meta_graph('./../results/model/UNet/u_net_1998.ckpt.meta')\n",
    "                with tf.Session(config = config) as sess:\n",
    "                        saver.restore(sess, './../results/model/UNet/u_net_1998.ckpt')\n",
    "                        \n",
    "                        test_mixed_list = []\n",
    "                        for bass, drums, other, vocals in zip(test_bass_list, test_drums_list, test_other_list, test_vocals_list):\n",
    "                            test_mixed_list.append(AudioModule.mixing(\n",
    "                                                                                bass,\n",
    "                                                                                drums,\n",
    "                                                                                other,\n",
    "                                                                                vocals\n",
    "                                                               ))\n",
    "                        test_target_list = test_vocals_list\n",
    "                        tf.keras.backend.set_learning_phase(0)\n",
    "                        # make mix audio\n",
    "                        est_start = time.time()\n",
    "                        for mix in test_mixed_list:\n",
    "                            cutted_mix_array = provider.test_data_split_and_pad(mix, self.sample_len)                            \n",
    "                            tmp_est_data_array = np.zeros((len(cutted_mix_array), self.sample_len))\n",
    "                            for index, mix_packet in enumerate(cutted_mix_array):\n",
    "                                mix_packet = mix_packet.reshape(1,-1)\n",
    "                                est_source = sess.run(tf_est_source, feed_dict = {\n",
    "                                       tf_mix: mix_packet[:,:]\n",
    "                                    }\n",
    "                                 )\n",
    "                                tmp_est_data_array[index,:] = est_source\n",
    "                                \n",
    "                            self.est_audio_list.append(tmp_est_data_array.reshape(1,-1))\n",
    "                        est_end = time.time()\n",
    "                        print(\"excuted time\", est_end - est_start)\n",
    "                        \n",
    "                        evaluate_start = time.time()\n",
    "                        for est, target, mix in zip(self.est_audio_list, test_target_list, test_mixed_list):\n",
    "                                target = target.reshape(1,-1)\n",
    "                                mix = mix.reshape(1,-1)\n",
    "                                \n",
    "                                est_array = np.zeros((2, target.shape[1]))\n",
    "                                est_array[0,:] = est[:, :target.shape[1]]\n",
    "                                est_array[1,:] = mix[:, :target.shape[1]] - est[:, :target.shape[1]]\n",
    "\n",
    "                                target_array = np.zeros((2, target.shape[1]))\n",
    "                                target_array[0,:] = target\n",
    "                                target_array[1,:] = mix[:, :target.shape[1]] - target\n",
    "                                \n",
    "                                sdr, sir, sar, perm =  mir_eval.separation.bss_eval_sources(target_array, est_array)\n",
    "                                self.sdr_list.append(sdr[0])\n",
    "                                self.sir_list.append(sir[0])\n",
    "                                self.sar_list.append(sar[0])\n",
    "                        print('sdr mean',np.mean(self.sdr_list))\n",
    "                        print('sir mean',np.mean(self.sir_list))\n",
    "                        print('sar mean',np.mean(self.sar_list))\n",
    "                        evaluate_end = time.time()\n",
    "                        print('evaluate time', evaluate_end - evaluate_start)\n",
    "                return self.est_audio_list,  test_target_list, test_mixed_list\n",
    "                \n",
    "                        \n",
    "                            \n",
    "\n",
    "if __name__ == '__main__':\n",
    "    test = Test()\n",
    "    est_list, target_list, mixed_list = test()\n",
    "   "
   ]
  },
  {
   "cell_type": "code",
   "execution_count": null,
   "metadata": {
    "ExecuteTime": {
     "end_time": "2019-11-09T14:12:43.727650Z",
     "start_time": "2019-11-09T14:10:32.779Z"
    },
    "collapsed": true
   },
   "outputs": [],
   "source": [
    " IPython.display.Audio(source, rate=16000)"
   ]
  },
  {
   "cell_type": "code",
   "execution_count": 44,
   "metadata": {
    "ExecuteTime": {
     "end_time": "2019-11-08T09:34:53.910136Z",
     "start_time": "2019-11-08T09:34:53.838812Z"
    }
   },
   "outputs": [
    {
     "data": {
      "text/plain": [
       "(array([ 0.33936125, 12.56919171]),\n",
       " array([ 3.33699695, 18.47346001]),\n",
       " array([ 5.01708348, 13.91934649]),\n",
       " array([0, 1]))"
      ]
     },
     "execution_count": 44,
     "metadata": {},
     "output_type": "execute_result"
    }
   ],
   "source": [
    "est = est_list[0]\n",
    "target = target_list[0]\n",
    "mix = mixed_list[0]\n",
    "target = target.reshape(1,-1)\n",
    "mix = mix.reshape(1,-1)\n",
    "est_array = np.zeros((2, target.shape[1]))\n",
    "est_array[0,:] = est[:, :target.shape[1]]\n",
    "est_array[1,:] = mix[:, :target.shape[1]] - est[:, :target.shape[1]]\n",
    "\n",
    "target_array = np.zeros((2, target.shape[1]))\n",
    "target_array[0,:] = target\n",
    "target_array[1,:] = mix[:, :target.shape[1]] - target\n",
    "mir_eval.separation.bss_eval_sources(target_array, est_array)"
   ]
  },
  {
   "cell_type": "code",
   "execution_count": 5,
   "metadata": {
    "ExecuteTime": {
     "end_time": "2019-11-08T12:08:30.111947Z",
     "start_time": "2019-11-08T12:08:30.061308Z"
    }
   },
   "outputs": [
    {
     "ename": "NameError",
     "evalue": "name 'est_spec' is not defined",
     "output_type": "error",
     "traceback": [
      "\u001b[0;31m---------------------------------------------------------------------------\u001b[0m",
      "\u001b[0;31mNameError\u001b[0m                                 Traceback (most recent call last)",
      "\u001b[0;32m<ipython-input-5-21b3fceed379>\u001b[0m in \u001b[0;36m<module>\u001b[0;34m()\u001b[0m\n\u001b[0;32m----> 1\u001b[0;31m \u001b[0mvisualize_spec\u001b[0m\u001b[0;34m.\u001b[0m\u001b[0mplot_spec\u001b[0m\u001b[0;34m(\u001b[0m\u001b[0mest_spec\u001b[0m\u001b[0;34m[\u001b[0m\u001b[0;36m0\u001b[0m\u001b[0;34m]\u001b[0m\u001b[0;34m,\u001b[0m \u001b[0;36m16000\u001b[0m\u001b[0;34m,\u001b[0m \u001b[0mself\u001b[0m\u001b[0;34m.\u001b[0m\u001b[0msec\u001b[0m\u001b[0;34m,\u001b[0m \u001b[0;34m-\u001b[0m\u001b[0;36m70\u001b[0m\u001b[0;34m,\u001b[0m \u001b[0;36m0\u001b[0m\u001b[0;34m)\u001b[0m\u001b[0;34m\u001b[0m\u001b[0;34m\u001b[0m\u001b[0m\n\u001b[0m",
      "\u001b[0;31mNameError\u001b[0m: name 'est_spec' is not defined"
     ]
    }
   ],
   "source": []
  },
  {
   "cell_type": "code",
   "execution_count": null,
   "metadata": {
    "collapsed": true
   },
   "outputs": [],
   "source": []
  }
 ],
 "metadata": {
  "kernelspec": {
   "display_name": "Python 3",
   "language": "python",
   "name": "python3"
  },
  "language_info": {
   "codemirror_mode": {
    "name": "ipython",
    "version": 3
   },
   "file_extension": ".py",
   "mimetype": "text/x-python",
   "name": "python",
   "nbconvert_exporter": "python",
   "pygments_lexer": "ipython3",
   "version": "3.6.8"
  },
  "varInspector": {
   "cols": {
    "lenName": 16,
    "lenType": 16,
    "lenVar": 40
   },
   "kernels_config": {
    "python": {
     "delete_cmd_postfix": "",
     "delete_cmd_prefix": "del ",
     "library": "var_list.py",
     "varRefreshCmd": "print(var_dic_list())"
    },
    "r": {
     "delete_cmd_postfix": ") ",
     "delete_cmd_prefix": "rm(",
     "library": "var_list.r",
     "varRefreshCmd": "cat(var_dic_list()) "
    }
   },
   "types_to_exclude": [
    "module",
    "function",
    "builtin_function_or_method",
    "instance",
    "_Feature"
   ],
   "window_display": false
  }
 },
 "nbformat": 4,
 "nbformat_minor": 2
}
